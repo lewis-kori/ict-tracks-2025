{
  "nbformat": 4,
  "nbformat_minor": 0,
  "metadata": {
    "colab": {
      "provenance": [],
      "authorship_tag": "ABX9TyMS0vDdTDQMAB6uPi+7pXxv",
      "include_colab_link": true
    },
    "kernelspec": {
      "name": "python3",
      "display_name": "Python 3"
    },
    "language_info": {
      "name": "python"
    }
  },
  "cells": [
    {
      "cell_type": "markdown",
      "metadata": {
        "id": "view-in-github",
        "colab_type": "text"
      },
      "source": [
        "<a href=\"https://colab.research.google.com/github/Jkendm/Cloud-Track/blob/main/Assign_Network_Fundamentals.ipynb\" target=\"_parent\"><img src=\"https://colab.research.google.com/assets/colab-badge.svg\" alt=\"Open In Colab\"/></a>"
      ]
    },
    {
      "cell_type": "markdown",
      "source": [
        "# **Assignment**\n",
        "Something to Challenge your mind on\n",
        "Each student should try them on and watch the recording for more information.\n",
        "\n",
        "Write 2 article and upload them on github:\n",
        "\n",
        "# **References**\n",
        "This is for the lesson on DNS.\n",
        "\n",
        "https://topsideboss2.hashnode.dev/explain-it-to-me-like-im-5-yrs-old\n",
        "\n",
        "\n",
        "\n",
        "Deploying a Dynamic Website on AWS using a 3-Tier Architecture\n",
        " https://topsideboss2.hashnode.dev/deploying-a-dynamic-website-on-aws-using-a-3-tier-architecture\n"
      ],
      "metadata": {
        "id": "c67P70YRic-D"
      }
    },
    {
      "cell_type": "code",
      "execution_count": null,
      "metadata": {
        "id": "JjAIn60TiaUm"
      },
      "outputs": [],
      "source": []
    }
  ]
}