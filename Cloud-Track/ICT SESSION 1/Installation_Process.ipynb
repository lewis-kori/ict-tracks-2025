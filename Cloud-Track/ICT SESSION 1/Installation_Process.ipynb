{
  "nbformat": 4,
  "nbformat_minor": 0,
  "metadata": {
    "colab": {
      "provenance": [],
      "authorship_tag": "ABX9TyPsuEefvGePEZkCJUDq7QpO",
      "include_colab_link": true
    },
    "kernelspec": {
      "name": "python3",
      "display_name": "Python 3"
    },
    "language_info": {
      "name": "python"
    }
  },
  "cells": [
    {
      "cell_type": "markdown",
      "metadata": {
        "id": "view-in-github",
        "colab_type": "text"
      },
      "source": [
        "<a href=\"https://colab.research.google.com/github/KamiLimu1/ict-tracks-2025/blob/main/Installation_Process.ipynb\" target=\"_parent\"><img src=\"https://colab.research.google.com/assets/colab-badge.svg\" alt=\"Open In Colab\"/></a>"
      ]
    },
    {
      "cell_type": "markdown",
      "source": [
        "# **Installation Process**\n",
        "\n",
        "**AWS CLoud Setup**\n",
        "\n",
        "Free AWS cloud training—No credit card required.\n",
        "Unlock your cloud potential\n",
        " AWS Educate is packed with hundreds of hours of free self-paced online training resources and labs designed to help you learn new cloud skills. No need to enter credit card details or create an Amazon account.\n",
        "Whether you're totally new to the cloud or preparing to earn an Amazon Web Services (AWS) certification, AWS Educate's hands-on training has something for everyone.\n",
        "\n",
        "[https://vmxwvcrs.r.us-east-1.awstrack.me/L0/https:%2F%2Femail.awscloud.com%2FMTEyLVRaTS03NjYA[…]-1719aefe7b0b-000000/4KKE_CMXx7bmel30VMxFOPw2nsg=427]\n",
        "\n",
        "Might help for those struggling with entering credit card details to create a AWS account\n",
        "\n",
        "**For self hosted cloud:**\n",
        "\n",
        "https://portal.capeatlas.cloud/\n",
        "\n"
      ],
      "metadata": {
        "id": "-4Bc0G7g6ckj"
      }
    }
  ]
}