{
  "nbformat": 4,
  "nbformat_minor": 0,
  "metadata": {
    "colab": {
      "provenance": [],
      "authorship_tag": "ABX9TyOldHfdUjdXzDs534bcFBLp",
      "include_colab_link": true
    },
    "kernelspec": {
      "name": "python3",
      "display_name": "Python 3"
    },
    "language_info": {
      "name": "python"
    }
  },
  "cells": [
    {
      "cell_type": "markdown",
      "metadata": {
        "id": "view-in-github",
        "colab_type": "text"
      },
      "source": [
        "<a href=\"https://colab.research.google.com/github/KamiLimu1/ict-tracks-2025/blob/main/Entry%20Job%20Description.ipynb\" target=\"_parent\"><img src=\"https://colab.research.google.com/assets/colab-badge.svg\" alt=\"Open In Colab\"/></a>"
      ]
    },
    {
      "cell_type": "markdown",
      "source": [
        "### **ENTRY LEVEL JOB DESCRIPTION**\n",
        "\n",
        "---\n",
        "\n"
      ],
      "metadata": {
        "id": "2ENUAUbRvHXT"
      }
    },
    {
      "cell_type": "markdown",
      "source": [
        "**Company**: KamiLimu Limited"
      ],
      "metadata": {
        "id": "-dgWjb2yvdAi"
      }
    },
    {
      "cell_type": "markdown",
      "source": [
        "**Location:** Nairobi, Kenya"
      ],
      "metadata": {
        "id": "ZuBnK4O7v3af"
      }
    },
    {
      "cell_type": "markdown",
      "source": [
        "**Type**: Full Time"
      ],
      "metadata": {
        "id": "rMtAVwBwxGzf"
      }
    },
    {
      "cell_type": "markdown",
      "source": [
        "## **About Us**"
      ],
      "metadata": {
        "id": "BdI1m7gvwNAe"
      }
    },
    {
      "cell_type": "markdown",
      "source": [
        "Kamilimu Limited is committed to building scalable, secure, and innovative cloud solutions that power the next generation of digital products and services. We are seeking a motivated.  Entry-Level Cloud Engineer to join our team and grow into a key contributor to our cloud infrastructure and DevOps initiatives."
      ],
      "metadata": {
        "id": "la06zuLUwc2D"
      }
    },
    {
      "cell_type": "markdown",
      "source": [
        "# **Key Responsibilities**"
      ],
      "metadata": {
        "id": "0tWoAWRKxQDT"
      }
    },
    {
      "cell_type": "markdown",
      "source": [
        "- Support CI/CD pipelines and automation workflows using tools like GitHub Actions,\n",
        "Jenkins, or GitLab CI.\n",
        "- Perform basic cloud networking configurations (VPC, subnets, security groups, load\n",
        "balancers).\n",
        "- Monitor system performance, troubleshoot issues, and optimize cloud resources for\n",
        "cost and efficiency.\n",
        "- Collaborate with developers to containerize applications using Docker and\n",
        "Kubernetes.\n",
        "- Implement basic Infrastructure as Code (IaC) using Terraform or CloudFormation.\n",
        "- Participate in security best practices, including IAM permissions, secrets\n",
        "management, and compliance.\n",
        "- Document processes, deployments, and troubleshooting steps for internal\n",
        "knowledge sharing\n",
        "-  Assist in deploying, managing, and monitoring cloud infrastructure (AWS, Azure, or\n",
        "GCP).\n"
      ],
      "metadata": {
        "id": "iRWOMgfBxXYu"
      }
    },
    {
      "cell_type": "markdown",
      "source": [
        "# **Requirement**"
      ],
      "metadata": {
        "id": "vTcU6I86xxSA"
      }
    },
    {
      "cell_type": "markdown",
      "source": [
        "- Bachelor’s degree in computer science, Information Technology, Engineering, or\n",
        "related field (or equivalent practical experience).\n",
        "- Familiarity with at least one cloud platform (AWS, Azure, or GCP).\n",
        "- Basic understanding of Linux systems administration and shell scripting.\n",
        "- Knowledge of version control systems (Git).\n",
        "- Exposure to CI/CD concepts and DevOps practices.\n",
        "- Strong problem-solving and troubleshooting skills.\n",
        "- Ability to work collaboratively in a team and communicate effectively"
      ],
      "metadata": {
        "id": "8-pk38Iax8tz"
      }
    },
    {
      "cell_type": "markdown",
      "source": [
        "# **Preferred Qualifiication**"
      ],
      "metadata": {
        "id": "vDM0URVtyInn"
      }
    },
    {
      "cell_type": "markdown",
      "source": [
        "- Internship or project experience with cloud deployment or DevOps tools.\n",
        "- Familiarity with containerization (Docker) and orchestration (Kubernetes).\n",
        "- Exposure to Infrastructure as Code (Terraform, Ansible, or CloudFormation).\n",
        "- Basic knowledge of cloud security principles.\n",
        "- Understanding of monitoring tools (Prometheus, Grafana, CloudWatch, or\n",
        "equivalent).\n",
        "- AWS Certified Cloud Practitioner or Azure Fundamentals certification"
      ],
      "metadata": {
        "id": "zQSw2deGyhtK"
      }
    },
    {
      "cell_type": "markdown",
      "source": [
        "# **What we Offer**"
      ],
      "metadata": {
        "id": "5W4joZjkysm7"
      }
    },
    {
      "cell_type": "markdown",
      "source": [
        "- A supportive environment with mentorship and professional development\n",
        "opportunities.\n",
        "- Hands-on experience with cutting-edge cloud technologies.\n",
        "- Competitive entry-level salary and benefits package.\n",
        "- Flexible work arrangements (remote/hybrid).\n",
        "- Clear growth paths into Cloud Engineering, DevOps, and Site Reliability Engineering\n",
        "(SRE) roles"
      ],
      "metadata": {
        "id": "9thhs6cuy3fE"
      }
    },
    {
      "cell_type": "markdown",
      "source": [
        "# **How to Apply**"
      ],
      "metadata": {
        "id": "QyLh46S9y56d"
      }
    },
    {
      "cell_type": "markdown",
      "source": [
        "Please submit your CV, a short cover letter, and links to any cloud-related projects, GitHub repositories, or certifications (if available)"
      ],
      "metadata": {
        "id": "tGgkN51XzBdf"
      }
    }
  ]
}